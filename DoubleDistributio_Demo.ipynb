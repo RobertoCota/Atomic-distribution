{
 "cells": [
  {
   "cell_type": "code",
   "execution_count": 17,
   "metadata": {},
   "outputs": [],
   "source": [
    "import numpy as np\n",
    "import pandas as pd\n",
    "from scipy.stats import norm\n",
    "\n",
    "import matplotlib.pyplot as plt\n",
    "import seaborn as sns\n",
    "\n",
    "%matplotlib inline"
   ]
  },
  {
   "cell_type": "code",
   "execution_count": 98,
   "metadata": {},
   "outputs": [],
   "source": [
    "t = np.arange(0,40)\n",
    "sigmoid = 5.0/(1.0 + np.exp(-(t-20)/5.0))"
   ]
  },
  {
   "cell_type": "code",
   "execution_count": 99,
   "metadata": {},
   "outputs": [
    {
     "data": {
      "text/plain": [
       "[<matplotlib.lines.Line2D at 0x12fe48eb8>]"
      ]
     },
     "execution_count": 99,
     "metadata": {},
     "output_type": "execute_result"
    },
    {
     "data": {
      "image/png": "[encoded data removed]",
      "text/plain": [
       "<Figure size 720x432 with 1 Axes>"
      ]
     },
     "metadata": {
      "needs_background": "light"
     },
     "output_type": "display_data"
    }
   ],
   "source": [
    "plt.figure(figsize=(10,6))\n",
    "plt.plot(t,sigmoid,marker='o')"
   ]
  },
  {
   "cell_type": "code",
   "execution_count": 101,
   "metadata": {},
   "outputs": [],
   "source": [
    "#x = np.arange(-10,10,0.1)\n",
    "#gauss = norm.pdf(x,loc=0,scale=1)"
   ]
  },
  {
   "cell_type": "code",
   "execution_count": 100,
   "metadata": {},
   "outputs": [],
   "source": [
    "#plt.figure(figsize=(10,6))\n",
    "#plt.plot(x,gauss,marker='o')"
   ]
  },
  {
   "cell_type": "code",
   "execution_count": 251,
   "metadata": {},
   "outputs": [],
   "source": [
    "x = np.arange(-10,10.1,0.1)\n",
    "\n",
    "def sigmoid(val):\n",
    "    return 5.0/(1.0 + np.exp(-(val-20)/5.0))"
   ]
  },
  {
   "cell_type": "code",
   "execution_count": 252,
   "metadata": {},
   "outputs": [],
   "source": [
    "#plt.figure(figsize=(10,6))\n",
    "#for i in range(0,40):\n",
    "#    plt.plot(x,norm.pdf(x,loc=sigmoid(i),scale=1+(39-i)/20),label='{}'.format(i))\n",
    "#plt.legend()"
   ]
  },
  {
   "cell_type": "code",
   "execution_count": 253,
   "metadata": {},
   "outputs": [],
   "source": [
    "matrix1 = np.zeros((len(t),len(x)),dtype='float64')\n",
    "matrix2 = np.zeros((len(t),len(x)),dtype='float64')"
   ]
  },
  {
   "cell_type": "code",
   "execution_count": 254,
   "metadata": {},
   "outputs": [],
   "source": [
    "#norm.pdf(x,loc=sigmoid(i),scale=1+(39-i)/20)"
   ]
  },
  {
   "cell_type": "code",
   "execution_count": 255,
   "metadata": {},
   "outputs": [],
   "source": [
    "for i in t:\n",
    "    arr = np.array(norm.pdf(x,loc=1.5*sigmoid(i),scale=1+(39-i)/20))\n",
    "    matrix1[i] = arr\n",
    "    \n",
    "for i in t:\n",
    "    arr = np.array(norm.pdf(x,loc=(-0.5)*sigmoid(i),scale=1+(39-i)/20))\n",
    "    matrix2[i] = arr"
   ]
  },
  {
   "cell_type": "code",
   "execution_count": 256,
   "metadata": {},
   "outputs": [],
   "source": [
    "matrix = matrix1 + matrix2\n",
    "\n",
    "df = pd.DataFrame(data=matrix,index=t,columns=x.round(1))\n",
    "#df2 = pd.DataFrame(data=matrix2,index=t,columns=x)"
   ]
  },
  {
   "cell_type": "code",
   "execution_count": 257,
   "metadata": {},
   "outputs": [
    {
     "data": {
      "text/html": [
       "<div>\n",
       "<style scoped>\n",
       "    .dataframe tbody tr th:only-of-type {\n",
       "        vertical-align: middle;\n",
       "    }\n",
       "\n",
       "    .dataframe tbody tr th {\n",
       "        vertical-align: top;\n",
       "    }\n",
       "\n",
       "    .dataframe thead th {\n",
       "        text-align: right;\n",
       "    }\n",
       "</style>\n",
       "<table border=\"1\" class=\"dataframe\">\n",
       "  <thead>\n",
       "    <tr style=\"text-align: right;\">\n",
       "      <th></th>\n",
       "      <th>-10.0</th>\n",
       "      <th>-9.9</th>\n",
       "      <th>-9.8</th>\n",
       "      <th>-9.7</th>\n",
       "      <th>-9.6</th>\n",
       "      <th>-9.5</th>\n",
       "      <th>-9.4</th>\n",
       "      <th>-9.3</th>\n",
       "      <th>-9.2</th>\n",
       "      <th>-9.1</th>\n",
       "      <th>...</th>\n",
       "      <th>9.1</th>\n",
       "      <th>9.2</th>\n",
       "      <th>9.3</th>\n",
       "      <th>9.4</th>\n",
       "      <th>9.5</th>\n",
       "      <th>9.6</th>\n",
       "      <th>9.7</th>\n",
       "      <th>9.8</th>\n",
       "      <th>9.9</th>\n",
       "      <th>10.0</th>\n",
       "    </tr>\n",
       "  </thead>\n",
       "  <tbody>\n",
       "    <tr>\n",
       "      <th>0</th>\n",
       "      <td>0.000825</td>\n",
       "      <td>0.000925</td>\n",
       "      <td>0.001037</td>\n",
       "      <td>0.001160</td>\n",
       "      <td>0.001297</td>\n",
       "      <td>0.001448</td>\n",
       "      <td>0.001615</td>\n",
       "      <td>0.001798</td>\n",
       "      <td>0.002001</td>\n",
       "      <td>0.002224</td>\n",
       "      <td>...</td>\n",
       "      <td>0.002443</td>\n",
       "      <td>0.002200</td>\n",
       "      <td>0.001980</td>\n",
       "      <td>0.001779</td>\n",
       "      <td>0.001597</td>\n",
       "      <td>0.001432</td>\n",
       "      <td>0.001282</td>\n",
       "      <td>0.001147</td>\n",
       "      <td>0.001025</td>\n",
       "      <td>0.000915</td>\n",
       "    </tr>\n",
       "    <tr>\n",
       "      <th>1</th>\n",
       "      <td>0.000680</td>\n",
       "      <td>0.000766</td>\n",
       "      <td>0.000862</td>\n",
       "      <td>0.000968</td>\n",
       "      <td>0.001086</td>\n",
       "      <td>0.001217</td>\n",
       "      <td>0.001363</td>\n",
       "      <td>0.001524</td>\n",
       "      <td>0.001702</td>\n",
       "      <td>0.001898</td>\n",
       "      <td>...</td>\n",
       "      <td>0.002136</td>\n",
       "      <td>0.001918</td>\n",
       "      <td>0.001719</td>\n",
       "      <td>0.001540</td>\n",
       "      <td>0.001377</td>\n",
       "      <td>0.001230</td>\n",
       "      <td>0.001098</td>\n",
       "      <td>0.000978</td>\n",
       "      <td>0.000871</td>\n",
       "      <td>0.000774</td>\n",
       "    </tr>\n",
       "    <tr>\n",
       "      <th>2</th>\n",
       "      <td>0.000554</td>\n",
       "      <td>0.000626</td>\n",
       "      <td>0.000708</td>\n",
       "      <td>0.000798</td>\n",
       "      <td>0.000899</td>\n",
       "      <td>0.001012</td>\n",
       "      <td>0.001138</td>\n",
       "      <td>0.001277</td>\n",
       "      <td>0.001432</td>\n",
       "      <td>0.001604</td>\n",
       "      <td>...</td>\n",
       "      <td>0.001861</td>\n",
       "      <td>0.001664</td>\n",
       "      <td>0.001487</td>\n",
       "      <td>0.001327</td>\n",
       "      <td>0.001182</td>\n",
       "      <td>0.001052</td>\n",
       "      <td>0.000935</td>\n",
       "      <td>0.000830</td>\n",
       "      <td>0.000736</td>\n",
       "      <td>0.000652</td>\n",
       "    </tr>\n",
       "    <tr>\n",
       "      <th>3</th>\n",
       "      <td>0.000445</td>\n",
       "      <td>0.000506</td>\n",
       "      <td>0.000574</td>\n",
       "      <td>0.000650</td>\n",
       "      <td>0.000736</td>\n",
       "      <td>0.000832</td>\n",
       "      <td>0.000939</td>\n",
       "      <td>0.001059</td>\n",
       "      <td>0.001192</td>\n",
       "      <td>0.001341</td>\n",
       "      <td>...</td>\n",
       "      <td>0.001616</td>\n",
       "      <td>0.001440</td>\n",
       "      <td>0.001281</td>\n",
       "      <td>0.001139</td>\n",
       "      <td>0.001011</td>\n",
       "      <td>0.000896</td>\n",
       "      <td>0.000794</td>\n",
       "      <td>0.000702</td>\n",
       "      <td>0.000620</td>\n",
       "      <td>0.000547</td>\n",
       "    </tr>\n",
       "    <tr>\n",
       "      <th>4</th>\n",
       "      <td>0.000353</td>\n",
       "      <td>0.000403</td>\n",
       "      <td>0.000460</td>\n",
       "      <td>0.000523</td>\n",
       "      <td>0.000595</td>\n",
       "      <td>0.000676</td>\n",
       "      <td>0.000766</td>\n",
       "      <td>0.000867</td>\n",
       "      <td>0.000981</td>\n",
       "      <td>0.001108</td>\n",
       "      <td>...</td>\n",
       "      <td>0.001401</td>\n",
       "      <td>0.001243</td>\n",
       "      <td>0.001102</td>\n",
       "      <td>0.000976</td>\n",
       "      <td>0.000863</td>\n",
       "      <td>0.000762</td>\n",
       "      <td>0.000672</td>\n",
       "      <td>0.000592</td>\n",
       "      <td>0.000521</td>\n",
       "      <td>0.000457</td>\n",
       "    </tr>\n",
       "  </tbody>\n",
       "</table>\n",
       "<p>5 rows × 201 columns</p>\n",
       "</div>"
      ],
      "text/plain": [
       "      -10.0     -9.9      -9.8      -9.7      -9.6      -9.5      -9.4   \\\n",
       "0  0.000825  0.000925  0.001037  0.001160  0.001297  0.001448  0.001615   \n",
       "1  0.000680  0.000766  0.000862  0.000968  0.001086  0.001217  0.001363   \n",
       "2  0.000554  0.000626  0.000708  0.000798  0.000899  0.001012  0.001138   \n",
       "3  0.000445  0.000506  0.000574  0.000650  0.000736  0.000832  0.000939   \n",
       "4  0.000353  0.000403  0.000460  0.000523  0.000595  0.000676  0.000766   \n",
       "\n",
       "      -9.3      -9.2      -9.1   ...      9.1       9.2       9.3       9.4   \\\n",
       "0  0.001798  0.002001  0.002224  ...  0.002443  0.002200  0.001980  0.001779   \n",
       "1  0.001524  0.001702  0.001898  ...  0.002136  0.001918  0.001719  0.001540   \n",
       "2  0.001277  0.001432  0.001604  ...  0.001861  0.001664  0.001487  0.001327   \n",
       "3  0.001059  0.001192  0.001341  ...  0.001616  0.001440  0.001281  0.001139   \n",
       "4  0.000867  0.000981  0.001108  ...  0.001401  0.001243  0.001102  0.000976   \n",
       "\n",
       "       9.5       9.6       9.7       9.8       9.9       10.0  \n",
       "0  0.001597  0.001432  0.001282  0.001147  0.001025  0.000915  \n",
       "1  0.001377  0.001230  0.001098  0.000978  0.000871  0.000774  \n",
       "2  0.001182  0.001052  0.000935  0.000830  0.000736  0.000652  \n",
       "3  0.001011  0.000896  0.000794  0.000702  0.000620  0.000547  \n",
       "4  0.000863  0.000762  0.000672  0.000592  0.000521  0.000457  \n",
       "\n",
       "[5 rows x 201 columns]"
      ]
     },
     "execution_count": 257,
     "metadata": {},
     "output_type": "execute_result"
    }
   ],
   "source": [
    "df.head()"
   ]
  },
  {
   "cell_type": "code",
   "execution_count": 258,
   "metadata": {},
   "outputs": [
    {
     "data": {
      "text/plain": [
       "<ErrorbarContainer object of 3 artists>"
      ]
     },
     "execution_count": 258,
     "metadata": {},
     "output_type": "execute_result"
    },
    {
     "data": {
      "image/png": "[encoded data removed]",
      "text/plain": [
       "<Figure size 720x576 with 2 Axes>"
      ]
     },
     "metadata": {},
     "output_type": "display_data"
    }
   ],
   "source": [
    "fig, ax = plt.subplots(1,1,figsize=(10,8))\n",
    "sns.set(font_scale=2)\n",
    "sns.heatmap(data=df, cmap='viridis',xticklabels=20,yticklabels=5,cbar_kws={'label': 'Densidad alterada ALV'})\n",
    "#sns.heatmap(data=df, cmap='plasma',xticklabels=20,yticklabels=5,cbar_kws={'label': 'Densidad alterada ALV'},alpha=0.5)\n",
    "ax.set_xlabel('Z')\n",
    "ax.set_ylabel('Time')\n",
    "ax.vlines(100, *ax.get_ylim(),'white')\n",
    "#ax.plot(100,11,'o')\n",
    "ax.errorbar(110,11,xerr=15,fmt='s',color='r',lw=3,ms=10)\n",
    "ax.errorbar(153,25,xerr=10,fmt='s',color='r',lw=3,ms=10)\n",
    "ax.errorbar(172,35,xerr=7,fmt='s',color='r',lw=3,ms=10)\n",
    "#plt.tight_layout()"
   ]
  },
  {
   "cell_type": "code",
   "execution_count": 259,
   "metadata": {},
   "outputs": [
    {
     "data": {
      "text/plain": [
       "[-10, -8, -6, -4, -2, 0, 2, 4, 6, 8]"
      ]
     },
     "execution_count": 259,
     "metadata": {},
     "output_type": "execute_result"
    }
   ],
   "source": [
    "list(range(-10,10,2))"
   ]
  },
  {
   "cell_type": "code",
   "execution_count": null,
   "metadata": {},
   "outputs": [],
   "source": []
  }
 ],
 "metadata": {
  "kernelspec": {
   "display_name": "Python [Root]",
   "language": "python",
   "name": "Python [Root]"
  },
  "language_info": {
   "codemirror_mode": {
    "name": "ipython",
    "version": 3
   },
   "file_extension": ".py",
   "mimetype": "text/x-python",
   "name": "python",
   "nbconvert_exporter": "python",
   "pygments_lexer": "ipython3",
   "version": "3.5.2"
  }
 },
 "nbformat": 4,
 "nbformat_minor": 4
}
